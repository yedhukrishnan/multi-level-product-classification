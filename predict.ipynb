{
 "cells": [
  {
   "cell_type": "code",
   "execution_count": 4,
   "metadata": {},
   "outputs": [],
   "source": [
    "import pandas as pd\n",
    "import tensorflow as tf\n",
    "from tensorflow.keras.preprocessing.text import Tokenizer\n",
    "from tensorflow.keras.preprocessing.sequence import pad_sequences\n",
    "import numpy as np\n",
    "import json\n",
    "from tensorflow.keras.preprocessing.text import tokenizer_from_json  \n",
    "import re\n",
    "from tensorflow.keras.models import load_model"
   ]
  },
  {
   "cell_type": "code",
   "execution_count": 5,
   "metadata": {},
   "outputs": [],
   "source": [
    "with open('tokenizer.json') as f:\n",
    "    data = json.load(f)\n",
    "    tokenizer = tokenizer_from_json(data)"
   ]
  },
  {
   "cell_type": "code",
   "execution_count": 6,
   "metadata": {},
   "outputs": [],
   "source": [
    "def clean_name(name):\n",
    "  common_keywords = [\"general\", \"accessories\", \"and\", \"in\", \"the\", \"with\", \"up\", \"to\", \"of\", \"on\", \"is\", \"a\", \"be\", \"all\", \"for\", \"or\"]\n",
    "  name_words = name\n",
    "  name_words = re.sub(r'[^a-zA-Z ]', \"\", name_words)\n",
    "  name_words = re.sub(r'(^| )x( |$)', \"\", name_words)\n",
    "  name_words = re.sub(r'\\s+', \" \", name_words)\n",
    "  name_words = name_words.strip().lower().split(\" \")\n",
    "  name_words = [word for word in name_words if word not in common_keywords]\n",
    "  return \" \".join(name_words)"
   ]
  },
  {
   "cell_type": "code",
   "execution_count": 7,
   "metadata": {},
   "outputs": [],
   "source": [
    "second_levels = [[\"Jewellery\", [\"Bangles, Bracelets & Armlets\", \"Rings\", \"Pendants & Lockets\", \"Necklaces & Chains\", \"Mangalsutras & Tanmaniyas\", \"Jewellery Sets\", \"Accessories\", \"Anklets\", \"Earrings\", \"Hair Accessories\", \"Artificial Jewellery\", \"Precious Jewellery\", \"Nose Rings & Studs\"]], [\"Clothing\", [\"Women's Clothing\", \"Kids' Clothing\", \"Men's Clothing\"]], [\"Footwear\", [\"Women's Footwear\", \"Men's Footwear\", \"Kids' & Infant Footwear\", \"REMSON INDIA Women Flats\"]], [\"Automotive\", [\"Accessories & Spare parts\", \"Car & Bike Accessories\", \"Car Accessories\"]], [\"Computers\", [\"Network Components\", \"Tablet Accessories\", \"Laptop Accessories\", \"Software\", \"Audio Players\", \"Computer Peripherals\", \"Storage\", \"Computer Components\", \"Laptops\"]], [\"Watches\", [\"Wrist Watches\", \"Watch Accessories\", \"Clocks\"]]]\n",
    "second_level_hash = {\"Jewellery\":[\"Bangles, Bracelets & Armlets\",\"Rings\",\"Pendants & Lockets\",\"Necklaces & Chains\",\"Mangalsutras & Tanmaniyas\",\"Jewellery Sets\",\"Accessories\",\"Anklets\",\"Earrings\",\"Hair Accessories\",\"Artificial Jewellery\",\"Precious Jewellery\",\"Nose Rings & Studs\"],\"Clothing\":[\"Women's Clothing\",\"Kids' Clothing\",\"Men's Clothing\"],\"Footwear\":[\"Women's Footwear\",\"Men's Footwear\",\"Kids' & Infant Footwear\",\"REMSON INDIA Women Flats\"],\"Automotive\":[\"Accessories & Spare parts\",\"Car & Bike Accessories\",\"Car Accessories\"],\"Computers\":[\"Network Components\",\"Tablet Accessories\",\"Laptop Accessories\",\"Software\",\"Audio Players\",\"Computer Peripherals\",\"Storage\",\"Computer Components\",\"Laptops\"],\"Watches\":[\"Wrist Watches\",\"Watch Accessories\",\"Clocks\"]}"
   ]
  },
  {
   "cell_type": "code",
   "execution_count": 8,
   "metadata": {},
   "outputs": [],
   "source": [
    "first_level_model = load_model(\"top_classifier.h5\")"
   ]
  },
  {
   "cell_type": "code",
   "execution_count": 15,
   "metadata": {},
   "outputs": [],
   "source": [
    "all_labels = [\"Accessories\", \"Accessories & Spare parts\", \"Anklets\", \"Artificial Jewellery\", \"Audio Players\", \"Automotive\", \"Bangles, Bracelets & Armlets\", \"Car & Bike Accessories\", \"Car Accessories\", \"Clocks\", \"Clothing\", \"Computer Components\", \"Computer Peripherals\", \"Computers\", \"Earrings\", \"Footwear\", \"Hair Accessories\", \"Jewellery\", \"Jewellery Sets\", \"Kids' & Infant Footwear\", \"Kids' Clothing\", \"Laptop Accessories\", \"Laptops\", \"Mangalsutras & Tanmaniyas\", \"Men's Clothing\", \"Men's Footwear\", \"Necklaces & Chains\", \"Network Components\", \"Nose Rings & Studs\", \"Pendants & Lockets\", \"Precious Jewellery\", \"REMSON INDIA Women Flats\", \"Rings\", \"Software\", \"Storage\", \"Tablet Accessories\", \"Watch Accessories\", \"Watches\", \"Women's Clothing\", \"Women's Footwear\", \"Wrist Watches\"] \n",
    "\n",
    "first_level_labels = [\"Automotive\", \"Clothing\", \"Computers\", \"Footwear\", \"Jewellery\", \"Watches\"]\n",
    "first_level_labels.sort()"
   ]
  },
  {
   "cell_type": "code",
   "execution_count": 21,
   "metadata": {},
   "outputs": [],
   "source": [
    "test_names = [\"Embroidered Men's Waistcoat\"]"
   ]
  },
  {
   "cell_type": "code",
   "execution_count": 22,
   "metadata": {},
   "outputs": [],
   "source": [
    "models = {}\n",
    "for label in first_level_labels:\n",
    "    models[label] = load_model(f'{label}_classifier.h5')"
   ]
  },
  {
   "cell_type": "code",
   "execution_count": 24,
   "metadata": {},
   "outputs": [
    {
     "name": "stdout",
     "output_type": "stream",
     "text": [
      "Embroidered Men's Waistcoat : Clothing > Men's Clothing\n"
     ]
    }
   ],
   "source": [
    "sequence_maxlen = 250\n",
    "\n",
    "for name in test_names:\n",
    "    seq = tokenizer.texts_to_sequences([clean_name(name)])\n",
    "    padded = pad_sequences(seq, maxlen=sequence_maxlen)\n",
    "    top_pred = first_level_model.predict(padded)\n",
    "    top_label = first_level_labels[np.argmax(top_pred)]\n",
    "    \n",
    "    second_level_model = models[top_label]\n",
    "    second_pred = second_level_model.predict(padded)\n",
    "    \n",
    "    second_level_labels = second_level_hash[top_label]\n",
    "    second_label = second_level_labels[np.argmax(second_pred)]\n",
    "    \n",
    "    print(\n",
    "        \"%s : %s > %s\" % (\n",
    "            name, \n",
    "            top_label,\n",
    "            second_label\n",
    "        )\n",
    "    )"
   ]
  },
  {
   "cell_type": "code",
   "execution_count": null,
   "metadata": {},
   "outputs": [],
   "source": []
  }
 ],
 "metadata": {
  "kernelspec": {
   "display_name": "Python 3",
   "language": "python",
   "name": "python3"
  },
  "language_info": {
   "codemirror_mode": {
    "name": "ipython",
    "version": 3
   },
   "file_extension": ".py",
   "mimetype": "text/x-python",
   "name": "python",
   "nbconvert_exporter": "python",
   "pygments_lexer": "ipython3",
   "version": "3.8.2"
  }
 },
 "nbformat": 4,
 "nbformat_minor": 4
}
